{
"# Перевірка пропусків\n",
"df.isnull().sum()"]
},
{
"cell_type": "markdown",
"metadata": {},
"source": ["# Крок 3: Візуалізація даних"]
},
{
"cell_type": "code",
"metadata": {},
"source": ["# Гістограми\n",
"df.hist(bins=50, figsize=(15,10))\n",
"plt.show()\n",
"\n",
"# Кореляційна матриця та теплова карта\n",
"plt.figure(figsize=(12,8))\n",
"sns.heatmap(df.corr(), annot=True, cmap='coolwarm')\n",
"plt.show()"]
},
{
"cell_type": "markdown",
"metadata": {},
"source": ["# Крок 4: Статистичний аналіз"]
},
{
"cell_type": "code",
"metadata": {},
"source": ["df.describe()"]
},
{
"cell_type": "markdown",
"metadata": {},
"source": ["# Крок 5: Нормалізація числових ознак"]
},
{
"cell_type": "code",
"metadata": {},
"source": ["numeric_cols = df.select_dtypes(include=['float64', 'int64']).columns\n",
"scaler = StandardScaler() # або MinMaxScaler()\n",
"df[numeric_cols] = scaler.fit_transform(df[numeric_cols])\n",
"df.describe()"]
},
{
"cell_type": "markdown",
"metadata": {},
"source": ["# Крок 6: Обрізання викидів"]
},
{
"cell_type": "code",
"metadata": {},
"source": ["for col in numeric_cols:\n",
" mean = df[col].mean()\n",
" std = df[col].std()\n",
" df[col] = df[col].clip(lower=mean-3*std, upper=mean+3*std)\n",
"\n",
"df.describe()\n",
"df.hist(bins=50, figsize=(15,10))\n",
"plt.show()"]
},
{
"cell_type": "markdown",
"metadata": {},
"source": ["# Крок 7: Підсумок\n",
"Дані готові до використання в моделях машинного навчання."]
}
],
"metadata": {
"kernelspec": {
"display_name": "Python 3",
"language": "python",
"name": "python3"
},
"language_info": {
"name": "python",
"version": "3.10"
}
},
"nbformat": 4,
"nbformat_minor": 5
}
